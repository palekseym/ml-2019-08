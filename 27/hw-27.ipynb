{
 "cells": [
  {
   "cell_type": "code",
   "execution_count": 1,
   "metadata": {},
   "outputs": [],
   "source": [
    "import warnings\n",
    "warnings.filterwarnings('ignore')\n",
    "import numpy as np\n",
    "import pandas as pd\n",
    "import re\n",
    "import seaborn as sns\n",
    "import matplotlib.pyplot as plt\n",
    "from sklearn.model_selection import train_test_split\n",
    "from sklearn.metrics import classification_report\n",
    "from sklearn.metrics import roc_auc_score, roc_curve, confusion_matrix\n",
    "\n",
    "%matplotlib inline\n"
   ]
  },
  {
   "cell_type": "code",
   "execution_count": 2,
   "metadata": {},
   "outputs": [],
   "source": [
    "df = pd.read_csv('SMSSpamCollection.txt', delimiter='\\t', header=None, names=['Class', 'Text'])"
   ]
  },
  {
   "cell_type": "code",
   "execution_count": 3,
   "metadata": {},
   "outputs": [
    {
     "data": {
      "text/html": [
       "<div>\n",
       "<style scoped>\n",
       "    .dataframe tbody tr th:only-of-type {\n",
       "        vertical-align: middle;\n",
       "    }\n",
       "\n",
       "    .dataframe tbody tr th {\n",
       "        vertical-align: top;\n",
       "    }\n",
       "\n",
       "    .dataframe thead th {\n",
       "        text-align: right;\n",
       "    }\n",
       "</style>\n",
       "<table border=\"1\" class=\"dataframe\">\n",
       "  <thead>\n",
       "    <tr style=\"text-align: right;\">\n",
       "      <th></th>\n",
       "      <th>Class</th>\n",
       "      <th>Text</th>\n",
       "    </tr>\n",
       "  </thead>\n",
       "  <tbody>\n",
       "    <tr>\n",
       "      <td>0</td>\n",
       "      <td>ham</td>\n",
       "      <td>Go until jurong point, crazy.. Available only ...</td>\n",
       "    </tr>\n",
       "    <tr>\n",
       "      <td>1</td>\n",
       "      <td>ham</td>\n",
       "      <td>Ok lar... Joking wif u oni...</td>\n",
       "    </tr>\n",
       "    <tr>\n",
       "      <td>2</td>\n",
       "      <td>spam</td>\n",
       "      <td>Free entry in 2 a wkly comp to win FA Cup fina...</td>\n",
       "    </tr>\n",
       "    <tr>\n",
       "      <td>3</td>\n",
       "      <td>ham</td>\n",
       "      <td>U dun say so early hor... U c already then say...</td>\n",
       "    </tr>\n",
       "    <tr>\n",
       "      <td>4</td>\n",
       "      <td>ham</td>\n",
       "      <td>Nah I don't think he goes to usf, he lives aro...</td>\n",
       "    </tr>\n",
       "  </tbody>\n",
       "</table>\n",
       "</div>"
      ],
      "text/plain": [
       "  Class                                               Text\n",
       "0   ham  Go until jurong point, crazy.. Available only ...\n",
       "1   ham                      Ok lar... Joking wif u oni...\n",
       "2  spam  Free entry in 2 a wkly comp to win FA Cup fina...\n",
       "3   ham  U dun say so early hor... U c already then say...\n",
       "4   ham  Nah I don't think he goes to usf, he lives aro..."
      ]
     },
     "execution_count": 3,
     "metadata": {},
     "output_type": "execute_result"
    }
   ],
   "source": [
    "df.head()"
   ]
  },
  {
   "cell_type": "code",
   "execution_count": 4,
   "metadata": {},
   "outputs": [
    {
     "data": {
      "text/plain": [
       "<matplotlib.axes._subplots.AxesSubplot at 0x7f35d088c748>"
      ]
     },
     "execution_count": 4,
     "metadata": {},
     "output_type": "execute_result"
    },
    {
     "data": {
      "image/png": "[encoded data removed]",
      "text/plain": [
       "<Figure size 432x288 with 1 Axes>"
      ]
     },
     "metadata": {
      "needs_background": "light"
     },
     "output_type": "display_data"
    }
   ],
   "source": [
    "sns.countplot(x='Class', data=df)"
   ]
  },
  {
   "cell_type": "code",
   "execution_count": 5,
   "metadata": {},
   "outputs": [],
   "source": [
    "for_del = np.random.choice(\n",
    "    df[df.Class == 'ham'].index,\n",
    "    df.Class.value_counts().ham - df.Class.value_counts().spam,\n",
    "    replace=False\n",
    ")"
   ]
  },
  {
   "cell_type": "code",
   "execution_count": 6,
   "metadata": {},
   "outputs": [],
   "source": [
    "df.drop(for_del, inplace=True)"
   ]
  },
  {
   "cell_type": "code",
   "execution_count": 7,
   "metadata": {},
   "outputs": [
    {
     "data": {
      "text/plain": [
       "<matplotlib.axes._subplots.AxesSubplot at 0x7f35d0805c50>"
      ]
     },
     "execution_count": 7,
     "metadata": {},
     "output_type": "execute_result"
    },
    {
     "data": {
      "image/png": "[encoded data removed]",
      "text/plain": [
       "<Figure size 432x288 with 1 Axes>"
      ]
     },
     "metadata": {
      "needs_background": "light"
     },
     "output_type": "display_data"
    }
   ],
   "source": [
    "sns.countplot(x='Class', data=df)"
   ]
  },
  {
   "cell_type": "code",
   "execution_count": 8,
   "metadata": {},
   "outputs": [],
   "source": [
    "df.Class = df.Class.map({'spam':-1, 'ham': 1})"
   ]
  },
  {
   "cell_type": "code",
   "execution_count": 9,
   "metadata": {},
   "outputs": [],
   "source": [
    "def to_vw_format(document, label=None):\n",
    "    return str(label or '') + ' |text ' + ' '.join(re.findall('\\w{3,}', document.lower())) + '\\n'\n",
    "def plot_confusion(true_labels, preds):\n",
    "    cm = confusion_matrix(true_labels, preds)\n",
    "    conf_matrix = pd.DataFrame(data = cm, columns = ['Predicted: True','Predicted: False'], index=['Actual: True','Actual: False'])\n",
    "    sns.heatmap(conf_matrix, annot=True,fmt='d',cmap=\"YlGnBu\", cbar=False)"
   ]
  },
  {
   "cell_type": "code",
   "execution_count": 10,
   "metadata": {},
   "outputs": [],
   "source": [
    "train_sms, test_sms, train_labels, test_labels = \\\n",
    "    train_test_split(df.Text, df.Class, random_state=42)\n",
    "    \n",
    "with open('sms_train.vw', 'w') as vw_train_data:\n",
    "    for text, target in zip(train_sms, train_labels):\n",
    "        vw_train_data.write(to_vw_format(text, target))\n",
    "with open('sms_test.vw', 'w') as vw_test_data:\n",
    "    for text in test_sms:\n",
    "        vw_test_data.write(to_vw_format(text))"
   ]
  },
  {
   "cell_type": "code",
   "execution_count": 11,
   "metadata": {},
   "outputs": [
    {
     "name": "stdout",
     "output_type": "stream",
     "text": [
      "final_regressor = sms_model.vw\r\n",
      "Num weight bits = 18\r\n",
      "learning rate = 0.5\r\n",
      "initial_t = 0\r\n",
      "power_t = 0.5\r\n",
      "using no cache\r\n",
      "Reading datafile = sms_train.vw\r\n",
      "num sources = 1\r\n",
      "average  since         example        example  current  current  current\r\n",
      "loss     last          counter         weight    label  predict features\r\n",
      "1.000000 1.000000            1            1.0  -1.0000   0.0000       21\r\n",
      "1.024146 1.048293            2            2.0   1.0000  -0.0483        7\r\n",
      "1.048932 1.073718            4            4.0  -1.0000   0.1013       21\r\n",
      "1.056568 1.064203            8            8.0   1.0000  -0.0925        9\r\n",
      "1.039301 1.022034           16           16.0   1.0000  -1.0000       38\r\n",
      "0.898950 0.758600           32           32.0  -1.0000  -0.0007       17\r\n",
      "0.755898 0.612846           64           64.0  -1.0000  -0.1348       14\r\n",
      "0.696821 0.637744          128          128.0   1.0000   0.1513        6\r\n",
      "0.573720 0.450618          256          256.0   1.0000   0.4968        5\r\n",
      "0.434920 0.296120          512          512.0   1.0000   0.7349       20\r\n",
      "0.320328 0.205737         1024         1024.0   1.0000   1.0000        5\r\n",
      "\r\n",
      "finished run\r\n",
      "number of examples per pass = 1120\r\n",
      "passes used = 1\r\n",
      "weighted example sum = 1120.000000\r\n",
      "weighted label sum = 2.000000\r\n",
      "average loss = 0.306183\r\n",
      "best constant = 1.000000\r\n",
      "best constant's loss = 0.998214\r\n",
      "total feature number = 17772\r\n"
     ]
    }
   ],
   "source": [
    "!vw -d sms_train.vw --loss_function hinge -f sms_model.vw"
   ]
  },
  {
   "cell_type": "code",
   "execution_count": 12,
   "metadata": {},
   "outputs": [
    {
     "name": "stdout",
     "output_type": "stream",
     "text": [
      "only testing\r\n",
      "predictions = sms_test_predictions.txt\r\n",
      "Num weight bits = 18\r\n",
      "learning rate = 0.5\r\n",
      "initial_t = 0\r\n",
      "power_t = 0.5\r\n",
      "using no cache\r\n",
      "Reading datafile = sms_test.vw\r\n",
      "num sources = 1\r\n",
      "average  since         example        example  current  current  current\r\n",
      "loss     last          counter         weight    label  predict features\r\n",
      "    n.a.     n.a.            1            1.0  unknown   1.0000        7\r\n",
      "    n.a.     n.a.            2            2.0  unknown   0.8389        5\r\n",
      "    n.a.     n.a.            4            4.0  unknown   1.0000        7\r\n",
      "    n.a.     n.a.            8            8.0  unknown   1.0000        5\r\n",
      "    n.a.     n.a.           16           16.0  unknown   0.3395       18\r\n",
      "    n.a.     n.a.           32           32.0  unknown  -0.2931       19\r\n",
      "    n.a.     n.a.           64           64.0  unknown  -1.0000       19\r\n",
      "    n.a.     n.a.          128          128.0  unknown  -0.7880       11\r\n",
      "    n.a.     n.a.          256          256.0  unknown   1.0000       10\r\n",
      "\r\n",
      "finished run\r\n",
      "number of examples per pass = 374\r\n",
      "passes used = 1\r\n",
      "weighted example sum = 374.000000\r\n",
      "weighted label sum = 0.000000\r\n",
      "average loss = n.a.\r\n",
      "total feature number = 5803\r\n"
     ]
    }
   ],
   "source": [
    "!vw -i sms_model.vw -t -d sms_test.vw -p sms_test_predictions.txt"
   ]
  },
  {
   "cell_type": "code",
   "execution_count": 13,
   "metadata": {},
   "outputs": [
    {
     "name": "stderr",
     "output_type": "stream",
     "text": [
      "findfont: Font family ['xkcd', 'Humor Sans', 'Comic Sans MS'] not found. Falling back to DejaVu Sans.\n",
      "findfont: Font family ['xkcd', 'Humor Sans', 'Comic Sans MS'] not found. Falling back to DejaVu Sans.\n"
     ]
    },
    {
     "data": {
      "image/png": "[encoded data removed]",
      "text/plain": [
       "<Figure size 432x288 with 1 Axes>"
      ]
     },
     "metadata": {},
     "output_type": "display_data"
    }
   ],
   "source": [
    "with open('sms_test_predictions.txt') as pred_file:\n",
    "    test_prediction = [float(label) \n",
    "                             for label in pred_file.readlines()]\n",
    "\n",
    "auc = roc_auc_score(test_labels, test_prediction)\n",
    "roc = roc_curve(test_labels, test_prediction)\n",
    "\n",
    "with plt.xkcd():\n",
    "    plt.plot(roc[0], roc[1]);\n",
    "    plt.plot([0,1], [0,1])\n",
    "    plt.xlabel('FPR'); plt.ylabel('TPR'); plt.title('test AUC = %f' % (auc)); plt.axis([-0.05,1.05,-0.05,1.05]);"
   ]
  },
  {
   "cell_type": "code",
   "execution_count": 14,
   "metadata": {},
   "outputs": [
    {
     "name": "stdout",
     "output_type": "stream",
     "text": [
      "              precision    recall  f1-score   support\n",
      "\n",
      "           0       0.99      0.94      0.97       188\n",
      "           1       0.94      0.99      0.97       186\n",
      "\n",
      "    accuracy                           0.97       374\n",
      "   macro avg       0.97      0.97      0.97       374\n",
      "weighted avg       0.97      0.97      0.97       374\n",
      "\n"
     ]
    }
   ],
   "source": [
    "print(classification_report(test_labels.map({-1: 0, 1:1}),[int(prob > 0) for prob in test_prediction]))"
   ]
  },
  {
   "cell_type": "code",
   "execution_count": 15,
   "metadata": {},
   "outputs": [
    {
     "data": {
      "text/plain": [
       "array([[177,  11],\n",
       "       [  1, 185]])"
      ]
     },
     "execution_count": 15,
     "metadata": {},
     "output_type": "execute_result"
    }
   ],
   "source": [
    "confusion_matrix(test_labels.map({-1: 0, 1:1}), [int(prob > 0) for prob in test_prediction])"
   ]
  },
  {
   "cell_type": "code",
   "execution_count": 16,
   "metadata": {},
   "outputs": [
    {
     "data": {
      "image/png": "[encoded data removed]",
      "text/plain": [
       "<Figure size 432x288 with 1 Axes>"
      ]
     },
     "metadata": {
      "needs_background": "light"
     },
     "output_type": "display_data"
    }
   ],
   "source": [
    "plot_confusion(test_labels.map({-1: 0, 1:1}), [int(prob > 0) for prob in test_prediction])"
   ]
  },
  {
   "cell_type": "code",
   "execution_count": null,
   "metadata": {},
   "outputs": [],
   "source": []
  }
 ],
 "metadata": {
  "kernelspec": {
   "display_name": "Python 3",
   "language": "python",
   "name": "python3"
  },
  "language_info": {
   "codemirror_mode": {
    "name": "ipython",
    "version": 3
   },
   "file_extension": ".py",
   "mimetype": "text/x-python",
   "name": "python",
   "nbconvert_exporter": "python",
   "pygments_lexer": "ipython3",
   "version": "3.6.9"
  }
 },
 "nbformat": 4,
 "nbformat_minor": 2
}
