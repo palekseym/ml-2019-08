{
 "cells": [
  {
   "cell_type": "code",
   "execution_count": 1,
   "metadata": {},
   "outputs": [],
   "source": [
    "import pandas as pd\n",
    "import scipy.sparse as sparse\n",
    "import numpy as np\n",
    "import random\n",
    "from lightfm import LightFM\n",
    "from sklearn.metrics.pairwise import cosine_similarity\n",
    "from tqdm.notebook import tqdm\n",
    "%matplotlib inline"
   ]
  },
  {
   "cell_type": "code",
   "execution_count": 2,
   "metadata": {},
   "outputs": [],
   "source": [
    "data = pd.read_csv('ratings.dat', header=0, names=['user_a', 'user_b', 'rating'])"
   ]
  },
  {
   "cell_type": "code",
   "execution_count": 3,
   "metadata": {},
   "outputs": [],
   "source": [
    "for_delete = (data.groupby('user_a').count()['user_b'] > 50)\n",
    "for_delete = for_delete[for_delete]"
   ]
  },
  {
   "cell_type": "code",
   "execution_count": null,
   "metadata": {},
   "outputs": [],
   "source": []
  },
  {
   "cell_type": "code",
   "execution_count": 4,
   "metadata": {},
   "outputs": [
    {
     "data": {
      "application/vnd.jupyter.widget-view+json": {
       "model_id": "6261a2972f1544b5b5a75c6f26f2aa5f",
       "version_major": 2,
       "version_minor": 0
      },
      "text/plain": [
       "HBox(children=(FloatProgress(value=1.0, bar_style='info', max=1.0), HTML(value='')))"
      ]
     },
     "metadata": {},
     "output_type": "display_data"
    },
    {
     "name": "stdout",
     "output_type": "stream",
     "text": [
      "\n"
     ]
    }
   ],
   "source": [
    "index_for_delete = []\n",
    "for index, row in tqdm(enumerate(data.user_a)):\n",
    "    if row in for_delete:\n",
    "        index_for_delete.append(index)"
   ]
  },
  {
   "cell_type": "code",
   "execution_count": 5,
   "metadata": {},
   "outputs": [],
   "source": [
    "df = data.drop(pd.Index(index_for_delete))"
   ]
  },
  {
   "cell_type": "code",
   "execution_count": 6,
   "metadata": {},
   "outputs": [],
   "source": [
    "user_a = list(np.sort(df.user_a.unique())) \n",
    "user_b = list(df.user_b.unique()) \n",
    "rating = list(df.rating) \n",
    "\n",
    "rows = df.user_a.astype('category').cat.codes \n",
    "cols = df.user_b.astype('category').cat.codes \n",
    "purchases_sparse = sparse.csr_matrix((rating, (rows, cols)), shape=(len(user_a), len(user_b)))"
   ]
  },
  {
   "cell_type": "code",
   "execution_count": 7,
   "metadata": {},
   "outputs": [],
   "source": [
    "def make_train(ratings, pct_test = 0.2):\n",
    "    test_set = ratings.copy() \n",
    "    test_set[test_set != 0] = 1 \n",
    "    training_set = ratings.copy() \n",
    "    nonzero_inds = training_set.nonzero() \n",
    "    nonzero_pairs = list(zip(nonzero_inds[0], nonzero_inds[1])) \n",
    "    random.seed(0) \n",
    "    num_samples = int(np.ceil(pct_test*len(nonzero_pairs))) \n",
    "    samples = random.sample(nonzero_pairs, num_samples) \n",
    "    user_inds = [index[0] for index in samples] \n",
    "    item_inds = [index[1] for index in samples] \n",
    "    training_set[user_inds, item_inds] = 0 \n",
    "    training_set.eliminate_zeros() \n",
    "    return training_set, test_set, list(set(user_inds))  "
   ]
  },
  {
   "cell_type": "code",
   "execution_count": 8,
   "metadata": {},
   "outputs": [],
   "source": [
    "product_train, product_test, product_users_altered = make_train(purchases_sparse, pct_test = 0.2)"
   ]
  },
  {
   "cell_type": "code",
   "execution_count": 9,
   "metadata": {},
   "outputs": [
    {
     "data": {
      "text/plain": [
       "<lightfm.lightfm.LightFM at 0x7faa3c01c208>"
      ]
     },
     "execution_count": 9,
     "metadata": {},
     "output_type": "execute_result"
    }
   ],
   "source": [
    "model = LightFM(loss='warp')\n",
    "model.fit_partial(product_train, epochs=40, num_threads=4)"
   ]
  },
  {
   "cell_type": "code",
   "execution_count": 10,
   "metadata": {},
   "outputs": [
    {
     "name": "stdout",
     "output_type": "stream",
     "text": [
      "21653\n"
     ]
    },
    {
     "data": {
      "text/plain": [
       "array([21653, 51423, 20883, 61411, 23509])"
      ]
     },
     "execution_count": 10,
     "metadata": {},
     "output_type": "execute_result"
    }
   ],
   "source": [
    "\n",
    "\n",
    "def display_item_to_items_recommendations(model,item_id):\n",
    "\n",
    "    user_arr = np.array(user_b) \n",
    "    \n",
    "    item_id = np.where(user_arr == item_id)[0][0]\n",
    "    print(item_id)\n",
    "  \n",
    "    return cosine_similarity(\n",
    "           model.item_embeddings)[item_id].argsort()[-5:][::-1]\n",
    "\n",
    "\n",
    "display_item_to_items_recommendations(model, 1095)"
   ]
  },
  {
   "cell_type": "code",
   "execution_count": null,
   "metadata": {},
   "outputs": [],
   "source": []
  }
 ],
 "metadata": {
  "kernelspec": {
   "display_name": "Python 3",
   "language": "python",
   "name": "python3"
  },
  "language_info": {
   "codemirror_mode": {
    "name": "ipython",
    "version": 3
   },
   "file_extension": ".py",
   "mimetype": "text/x-python",
   "name": "python",
   "nbconvert_exporter": "python",
   "pygments_lexer": "ipython3",
   "version": "3.6.9"
  }
 },
 "nbformat": 4,
 "nbformat_minor": 2
}
