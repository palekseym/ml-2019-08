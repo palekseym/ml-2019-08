{
 "cells": [
  {
   "cell_type": "code",
   "execution_count": 7,
   "metadata": {},
   "outputs": [],
   "source": [
    "import pandas as pd\n",
    "import warnings\n",
    "import re\n",
    "import requests\n",
    "\n",
    "from datetime import datetime\n",
    "from time import sleep\n",
    "from bs4 import BeautifulSoup\n",
    "from fake_useragent import UserAgent\n",
    "\n",
    "warnings.simplefilter('ignore')"
   ]
  },
  {
   "cell_type": "code",
   "execution_count": 8,
   "metadata": {},
   "outputs": [],
   "source": [
    "__BASE_URL__ = 'https://auto.drom.ru/all/page'\n",
    "\n",
    "\n",
    "def get_items_url(i):\n",
    "    # генерирует ссылку для получения списка машин\n",
    "    return f\"{__BASE_URL__}{i}/\""
   ]
  },
  {
   "cell_type": "code",
   "execution_count": 9,
   "metadata": {},
   "outputs": [],
   "source": [
    "def parse_items(html_source):\n",
    "    # парсит ссылки на отдельные машины\n",
    "    items = list()\n",
    "    soup = BeautifulSoup(html_source, 'html.parser')\n",
    "    for item in soup.find_all('a', attrs={'name': re.compile('[0-9]+'), 'class': 'b-advItem'}):\n",
    "        items.append(item.attrs['href'])\n",
    "    return items"
   ]
  },
  {
   "cell_type": "code",
   "execution_count": 22,
   "metadata": {},
   "outputs": [],
   "source": [
    "def parse_item(html_source):\n",
    "    #Парсит информацию о машине\n",
    "    car = {}\n",
    "    maproperty = {\n",
    "        'Двигатель': re.compile('Двигатель:\\| ([а-яА-Я\\, 0-9\\.]+).+\\|'),\n",
    "        'Мощность': re.compile('Мощность:[\\| ]+\\|(\\d+)'),\n",
    "        'Трансмиссия': re.compile('Трансмиссия:[\\| ]+([а-яА-я]+)\\|'),\n",
    "        'Привод': re.compile('Привод:[\\| ]+([а-яА-я\\w]+)\\|'),\n",
    "        'Пробег': re.compile('Пробег, км:[\\| ]+(\\d+)\\|'),\n",
    "        'Руль': re.compile('Руль:[\\| ]+([а-яА-я]+)'),\n",
    "    }\n",
    "    soup = BeautifulSoup(html_source, 'html.parser')\n",
    "    price = soup.find('div', attrs={'color': 'red'})\n",
    "    price = re.compile('^([0-9]+).+').findall(\n",
    "        price.get_text().replace('\\xa0', '')\n",
    "    )\n",
    "    if len(price) > 0:\n",
    "        car['Цена'] = price[0]\n",
    "    else:\n",
    "        car['Цена'] = ''\n",
    "    car['Год'] = re.compile('([0-9]{4}).*год').findall(\n",
    "        soup.find('h1', attrs={'class': 'b-title_type_h1'}).get_text()\n",
    "    )[0]\n",
    "\n",
    "    car['Модель'] = re.compile('Продажа ([a-zА-Я 0-9\\-]+),', re.IGNORECASE).findall(\n",
    "        soup.find('h1', attrs={'data-ga-stats-ya-name': 'sales_view_bull'}).text)[0]\n",
    "\n",
    "    raw_mark = soup.find('div', attrs={'class': 'b-media-cont b-media-cont_relative'}).get_text('|')\n",
    "    for mark in maproperty.keys():\n",
    "        finded = maproperty[mark].findall(raw_mark)\n",
    "        if len(finded) > 0:\n",
    "            car[mark] = finded[0]\n",
    "        else:\n",
    "            car[mark] = ''\n",
    "    return car"
   ]
  },
  {
   "cell_type": "code",
   "execution_count": 23,
   "metadata": {},
   "outputs": [],
   "source": [
    "def get_data(count_pages=1):\n",
    "    # запускает парсер и возвращает масив словарей с описанием машины\n",
    "    parsed_objects = list()\n",
    "\n",
    "    for i in range(1, count_pages + 1):\n",
    "        user_agent = UserAgent(use_cache_server=False).chrome\n",
    "        response = requests.get(get_items_url(i), headers={'User-Agent': user_agent})\n",
    "        if response.ok:\n",
    "            for item_url in parse_items(response.content):\n",
    "                response = requests.get(item_url, headers={'User-Agent': user_agent})\n",
    "                if response.ok:\n",
    "                    try:\n",
    "                        parsed_objects.append(parse_item(response.content))\n",
    "                    except:\n",
    "                        print(f\"Error on {item_url}\")\n",
    "                        raise\n",
    "        print(\n",
    "            f\"{datetime.now().strftime('%Y-%m-%d %H:%M:%S')}, Обработано страниц: {i}\\nОбработано объектов: {len(parsed_objects)}\")\n",
    "        sleep(2)\n",
    "    return parsed_objects"
   ]
  },
  {
   "cell_type": "markdown",
   "metadata": {},
   "source": [
    "# Запуск парсера"
   ]
  },
  {
   "cell_type": "code",
   "execution_count": 24,
   "metadata": {},
   "outputs": [
    {
     "name": "stdout",
     "output_type": "stream",
     "text": [
      "2019-11-16 23:10:24, Обработано страниц: 1\n",
      "Обработано объектов: 20\n",
      "2019-11-16 23:10:40, Обработано страниц: 2\n",
      "Обработано объектов: 40\n",
      "2019-11-16 23:10:56, Обработано страниц: 3\n",
      "Обработано объектов: 60\n",
      "2019-11-16 23:11:12, Обработано страниц: 4\n",
      "Обработано объектов: 80\n",
      "2019-11-16 23:11:29, Обработано страниц: 5\n",
      "Обработано объектов: 100\n",
      "2019-11-16 23:11:45, Обработано страниц: 6\n",
      "Обработано объектов: 120\n",
      "2019-11-16 23:12:00, Обработано страниц: 7\n",
      "Обработано объектов: 140\n",
      "2019-11-16 23:12:16, Обработано страниц: 8\n",
      "Обработано объектов: 160\n",
      "2019-11-16 23:12:33, Обработано страниц: 9\n",
      "Обработано объектов: 180\n",
      "2019-11-16 23:12:50, Обработано страниц: 10\n",
      "Обработано объектов: 200\n",
      "2019-11-16 23:13:05, Обработано страниц: 11\n",
      "Обработано объектов: 220\n",
      "2019-11-16 23:13:21, Обработано страниц: 12\n",
      "Обработано объектов: 240\n",
      "2019-11-16 23:13:36, Обработано страниц: 13\n",
      "Обработано объектов: 260\n",
      "2019-11-16 23:13:53, Обработано страниц: 14\n",
      "Обработано объектов: 280\n",
      "2019-11-16 23:14:09, Обработано страниц: 15\n",
      "Обработано объектов: 300\n",
      "2019-11-16 23:14:24, Обработано страниц: 16\n",
      "Обработано объектов: 320\n",
      "2019-11-16 23:14:39, Обработано страниц: 17\n",
      "Обработано объектов: 340\n",
      "2019-11-16 23:14:55, Обработано страниц: 18\n",
      "Обработано объектов: 360\n",
      "2019-11-16 23:15:11, Обработано страниц: 19\n",
      "Обработано объектов: 380\n",
      "2019-11-16 23:15:26, Обработано страниц: 20\n",
      "Обработано объектов: 400\n"
     ]
    }
   ],
   "source": [
    "# соберем данные с первых 20 страниц\n",
    "data = get_data(20)"
   ]
  },
  {
   "cell_type": "code",
   "execution_count": 25,
   "metadata": {},
   "outputs": [],
   "source": [
    "data_df = pd.DataFrame(data)"
   ]
  },
  {
   "cell_type": "code",
   "execution_count": 26,
   "metadata": {},
   "outputs": [
    {
     "data": {
      "text/html": [
       "<div>\n",
       "<style scoped>\n",
       "    .dataframe tbody tr th:only-of-type {\n",
       "        vertical-align: middle;\n",
       "    }\n",
       "\n",
       "    .dataframe tbody tr th {\n",
       "        vertical-align: top;\n",
       "    }\n",
       "\n",
       "    .dataframe thead th {\n",
       "        text-align: right;\n",
       "    }\n",
       "</style>\n",
       "<table border=\"1\" class=\"dataframe\">\n",
       "  <thead>\n",
       "    <tr style=\"text-align: right;\">\n",
       "      <th></th>\n",
       "      <th>Цена</th>\n",
       "      <th>Год</th>\n",
       "      <th>Модель</th>\n",
       "      <th>Двигатель</th>\n",
       "      <th>Мощность</th>\n",
       "      <th>Трансмиссия</th>\n",
       "      <th>Привод</th>\n",
       "      <th>Пробег</th>\n",
       "      <th>Руль</th>\n",
       "    </tr>\n",
       "  </thead>\n",
       "  <tbody>\n",
       "    <tr>\n",
       "      <td>0</td>\n",
       "      <td>380000</td>\n",
       "      <td>2011</td>\n",
       "      <td>Лада 4x4 Бронто</td>\n",
       "      <td>бензин, 1.7 л</td>\n",
       "      <td>81</td>\n",
       "      <td>механика</td>\n",
       "      <td>4WD</td>\n",
       "      <td>41000</td>\n",
       "      <td>левый</td>\n",
       "    </tr>\n",
       "    <tr>\n",
       "      <td>1</td>\n",
       "      <td>765000</td>\n",
       "      <td>2008</td>\n",
       "      <td>Mitsubishi Lancer</td>\n",
       "      <td>бензин, 2.0 л</td>\n",
       "      <td>241</td>\n",
       "      <td>автомат</td>\n",
       "      <td>4WD</td>\n",
       "      <td>189000</td>\n",
       "      <td>левый</td>\n",
       "    </tr>\n",
       "    <tr>\n",
       "      <td>2</td>\n",
       "      <td>805000</td>\n",
       "      <td>2013</td>\n",
       "      <td>Hyundai ix35</td>\n",
       "      <td>бензин, 2.0 л, ГБО</td>\n",
       "      <td>150</td>\n",
       "      <td>автомат</td>\n",
       "      <td>4WD</td>\n",
       "      <td>71000</td>\n",
       "      <td>левый</td>\n",
       "    </tr>\n",
       "    <tr>\n",
       "      <td>3</td>\n",
       "      <td>345000</td>\n",
       "      <td>2008</td>\n",
       "      <td>Hyundai Getz</td>\n",
       "      <td>бензин, 1.4 л</td>\n",
       "      <td>95</td>\n",
       "      <td>автомат</td>\n",
       "      <td>передний</td>\n",
       "      <td>138000</td>\n",
       "      <td>левый</td>\n",
       "    </tr>\n",
       "    <tr>\n",
       "      <td>4</td>\n",
       "      <td>325000</td>\n",
       "      <td>2007</td>\n",
       "      <td>Opel Astra</td>\n",
       "      <td>бензин, 1.8 л</td>\n",
       "      <td>140</td>\n",
       "      <td>механика</td>\n",
       "      <td>передний</td>\n",
       "      <td></td>\n",
       "      <td>левый</td>\n",
       "    </tr>\n",
       "  </tbody>\n",
       "</table>\n",
       "</div>"
      ],
      "text/plain": [
       "     Цена   Год             Модель           Двигатель Мощность Трансмиссия  \\\n",
       "0  380000  2011    Лада 4x4 Бронто       бензин, 1.7 л       81    механика   \n",
       "1  765000  2008  Mitsubishi Lancer       бензин, 2.0 л      241     автомат   \n",
       "2  805000  2013       Hyundai ix35  бензин, 2.0 л, ГБО      150     автомат   \n",
       "3  345000  2008       Hyundai Getz       бензин, 1.4 л       95     автомат   \n",
       "4  325000  2007         Opel Astra       бензин, 1.8 л      140    механика   \n",
       "\n",
       "     Привод  Пробег   Руль  \n",
       "0       4WD   41000  левый  \n",
       "1       4WD  189000  левый  \n",
       "2       4WD   71000  левый  \n",
       "3  передний  138000  левый  \n",
       "4  передний          левый  "
      ]
     },
     "execution_count": 26,
     "metadata": {},
     "output_type": "execute_result"
    }
   ],
   "source": [
    "data_df.head()"
   ]
  },
  {
   "cell_type": "code",
   "execution_count": 27,
   "metadata": {},
   "outputs": [
    {
     "name": "stdout",
     "output_type": "stream",
     "text": [
      "<class 'pandas.core.frame.DataFrame'>\n",
      "RangeIndex: 400 entries, 0 to 399\n",
      "Data columns (total 9 columns):\n",
      "Цена           400 non-null object\n",
      "Год            400 non-null object\n",
      "Модель         400 non-null object\n",
      "Двигатель      400 non-null object\n",
      "Мощность       400 non-null object\n",
      "Трансмиссия    400 non-null object\n",
      "Привод         400 non-null object\n",
      "Пробег         400 non-null object\n",
      "Руль           400 non-null object\n",
      "dtypes: object(9)\n",
      "memory usage: 28.2+ KB\n"
     ]
    }
   ],
   "source": [
    "data_df.info()"
   ]
  },
  {
   "cell_type": "code",
   "execution_count": 28,
   "metadata": {},
   "outputs": [],
   "source": [
    "data_df.to_csv('drom.csv')"
   ]
  },
  {
   "cell_type": "code",
   "execution_count": null,
   "metadata": {},
   "outputs": [],
   "source": []
  }
 ],
 "metadata": {
  "kernelspec": {
   "display_name": "Python 3",
   "language": "python",
   "name": "python3"
  },
  "language_info": {
   "codemirror_mode": {
    "name": "ipython",
    "version": 3
   },
   "file_extension": ".py",
   "mimetype": "text/x-python",
   "name": "python",
   "nbconvert_exporter": "python",
   "pygments_lexer": "ipython3",
   "version": "3.6.8"
  }
 },
 "nbformat": 4,
 "nbformat_minor": 2
}
